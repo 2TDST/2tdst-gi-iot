{
 "nbformat": 4,
 "nbformat_minor": 0,
 "metadata": {
  "colab": {
   "name": "knn_tomato.ipynb",
   "provenance": [],
   "collapsed_sections": []
  },
  "kernelspec": {
   "name": "python3",
   "display_name": "Python 3"
  },
  "language_info": {
   "name": "python"
  }
 },
 "cells": [
  {
   "cell_type": "markdown",
   "metadata": {
    "id": "OhmaX_3l92L4"
   },
   "source": []
  },
  {
   "cell_type": "code",
   "metadata": {
    "colab": {
     "base_uri": "https://localhost:8080/"
    },
    "id": "opidrYnX7QEz",
    "outputId": "97a9a7a5-e123-44cb-c725-97e5206afd21"
   },
   "source": [
    "from google.colab import drive\n",
    "drive.mount('/content/drive')\n",
    "\n",
    "amostragem = []\n",
    "\n",
    "with open('/content/drive/My Drive/{{ PASTA }}/dataset_tomate.csv', 'r') as dataset:\n",
    "  for linha in dataset.readlines():\n",
    "    #print(linha, type(linha))\n",
    "    valores = linha.replace('\\n', '').split(',')\n",
    "\n",
    "    amostragem.append(\n",
    "                  [\n",
    "                   float(valores[0]),\n",
    "                   float(valores[1]),\n",
    "                   float(valores[2]),\n",
    "                   float(valores[3]),\n",
    "                   float(valores[4]),\n",
    "                   float(valores[5]),\n",
    "                   float(valores[6]),\n",
    "                   float(valores[7]),\n",
    "                   float(valores[8]),\n",
    "                   float(valores[9]),\n",
    "                   float(valores[10]),\n",
    "                   float(valores[11]),\n",
    "                   float(valores[12]),\n",
    "                   float(valores[13]),\n",
    "                   float(valores[14]),\n",
    "                   float(valores[15]),\n",
    "                   float(valores[16]),\n",
    "                   float(valores[17]),\n",
    "                   float(valores[18]),\n",
    "                   float(valores[19]),\n",
    "                   float(valores[20]),\n",
    "                  ]\n",
    "    )\n",
    "\n",
    "    def info_dataset(amostragem, info=True):\n",
    "      output1, output2 = 0,0\n",
    "\n",
    "      for amostra in amostragem:\n",
    "        if amostra[-1] == 1:\n",
    "          output1 += 1 # Resistentes\n",
    "        else:\n",
    "          output2 += 1 # Não Resistentes\n",
    "      \n",
    "      if info == True:\n",
    "        print(\"Total de Amostragem: \", len(amostras))\n",
    "        print(\"Total Resistentes: \", output1)\n",
    "        print(\"Total Não Resistentes: \", output2)\n",
    "      return [len(amostras), output1, output2]"
   ],
   "execution_count": 36,
   "outputs": [
    {
     "output_type": "stream",
     "name": "stdout",
     "text": [
      "Drive already mounted at /content/drive; to attempt to forcibly remount, call drive.mount(\"/content/drive\", force_remount=True).\n"
     ]
    }
   ]
  },
  {
   "cell_type": "code",
   "metadata": {
    "colab": {
     "base_uri": "https://localhost:8080/"
    },
    "id": "pR7wBzXq8l3d",
    "outputId": "2d2501f7-ac62-4fe1-ac19-c92597a0a067"
   },
   "source": [
    "info_dataset(amostras, info=True)"
   ],
   "execution_count": 28,
   "outputs": [
    {
     "output_type": "stream",
     "name": "stdout",
     "text": [
      "Total de Amostragem:  132\n",
      "Total Resistentes:  91\n",
      "Total Não Resistentes:  41\n"
     ]
    },
    {
     "output_type": "execute_result",
     "data": {
      "text/plain": [
       "[132, 91, 41]"
      ]
     },
     "metadata": {},
     "execution_count": 28
    }
   ]
  },
  {
   "cell_type": "code",
   "metadata": {
    "id": "PTeHlJ-Q8zDi"
   },
   "source": [
    "# Euclidian Distance\n",
    "import math\n",
    "def euclidian_distance(p1, p2):\n",
    "  dimension = len(p1)\n",
    "  sum= 0\n",
    "  for i in range(dimension):\n",
    "    sum += (p1[i] - p2[i])**2\n",
    "  return math.sqrt(sum)"
   ],
   "execution_count": 37,
   "outputs": []
  },
  {
   "cell_type": "code",
   "metadata": {
    "colab": {
     "base_uri": "https://localhost:8080/"
    },
    "id": "mnCjhfVT84eR",
    "outputId": "b1dcfbe4-c340-4107-f9f0-dcd3a342365f"
   },
   "source": [
    "# Tests and Training\n",
    "\n",
    "porcentagem = 0.7\n",
    "_, output1, output2 = info_dataset(amostras, info=False)\n",
    "\n",
    "treinamento = []\n",
    "teste = []\n",
    "\n",
    "max_output1 = int(porcentagem * output1)\n",
    "max_output2 = int(porcentagem * output2)\n",
    "\n",
    "total_output1 = 0\n",
    "total_output2 = 0\n",
    "\n",
    "for amostra in amostras:\n",
    "  if(total_output1 + total_output2) < (max_output1 + max_output2):\n",
    "    treinamento.append(amostra)\n",
    "    if amostra[-1] == 1 and total_output1 < max_output1:\n",
    "      total_output1 += 1\n",
    "    else:\n",
    "      total_output2 += 1\n",
    "  else:\n",
    "    teste.append(amostra)\n",
    "print(len(teste))"
   ],
   "execution_count": 39,
   "outputs": [
    {
     "output_type": "stream",
     "name": "stdout",
     "text": [
      "41\n"
     ]
    }
   ]
  },
  {
   "cell_type": "code",
   "metadata": {
    "id": "n_EvNRki8_j-"
   },
   "source": [
    "def knn(treinamento, nova_amostra, k):\n",
    "  distancias = {}\n",
    "  tamanho_treinamento = len(treinamento)\n",
    "\n",
    "  for i in range(tamanho_treinamento):\n",
    "    d = distancia_euclidiana(treinamento[i], nova_amostra)\n",
    "    distancias[i] = d\n",
    "\n",
    "  # Index dos K Nearest Neighbours\n",
    "  k_vizinhos = sorted(distancias, key= distancias.get)[:k] \n",
    "\n",
    "  qtd_output1 = 0\n",
    "  qtd_output2 = 0\n",
    "  for indice in k_vizinhos:\n",
    "    if treinamento[indice][-1] == 1:\n",
    "      qtd_output1 +=1\n",
    "    else:\n",
    "      qtd_output2 +=1\n",
    "  if qtd_output1 > qtd_output2:\n",
    "    return 1\n",
    "  else:\n",
    "    return 0"
   ],
   "execution_count": 40,
   "outputs": []
  },
  {
   "cell_type": "code",
   "metadata": {
    "colab": {
     "base_uri": "https://localhost:8080/"
    },
    "id": "dtzmmtgB9DAo",
    "outputId": "9ef9b9a0-bc2e-4d6f-ae8b-2113e6ffb9d7"
   },
   "source": [
    "# Teste final de assertividade do algoritmo\n",
    "acertos = 0\n",
    "k= 5\n",
    "for amostra in teste:\n",
    "  classe = knn(treinamento, amostra, k)\n",
    "  if amostra[-1] == classe:\n",
    "    acertos += 1\n",
    "print(\"Total de Treinamentos:\", len(treinamento))\n",
    "print(\"Total de Testes: \", len(teste))\n",
    "print(\"Total de Acertos: \", acertos)\n",
    "print(\"Percentual de Acertos: \", 100*acertos/len(teste))"
   ],
   "execution_count": 41,
   "outputs": [
    {
     "output_type": "stream",
     "name": "stdout",
     "text": [
      "Total de Treinamentos: 91\n",
      "Total de Testes:  41\n",
      "Total de Acertos:  32\n",
      "Percentual de Acertos:  78.04878048780488\n"
     ]
    }
   ]
  },
  {
   "cell_type": "code",
   "metadata": {
    "colab": {
     "base_uri": "https://localhost:8080/"
    },
    "id": "WO2UoCwR9FVN",
    "outputId": "240a6dc7-c162-491e-8ba5-284585161869"
   },
   "source": [
    "print(teste[0])"
   ],
   "execution_count": 42,
   "outputs": [
    {
     "output_type": "stream",
     "name": "stdout",
     "text": [
      "[8524132.0, 92803946.0, 92730487.0, 83653191.0, 84402030.0, 93947749.0, 93947567.0, 8572276.0, 90896866.0, 78084715.0, 8649027.0, 94742323.0, 94160318.0, 18369252.0, 7781617.0, 91518152.0, 92147434.0, 94697561.0, 73945107.0, 7267898.0, 0.0]\n"
     ]
    }
   ]
  },
  {
   "cell_type": "code",
   "metadata": {
    "colab": {
     "base_uri": "https://localhost:8080/"
    },
    "id": "Cw6TkKPm9JoV",
    "outputId": "3039a5f7-c98d-4612-a88f-323870e76000"
   },
   "source": [
    "print(knn(treinamento, teste[0], k=5))"
   ],
   "execution_count": 43,
   "outputs": [
    {
     "output_type": "stream",
     "name": "stdout",
     "text": [
      "1\n"
     ]
    }
   ]
  }
 ]
}